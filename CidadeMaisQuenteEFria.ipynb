{
 "cells": [
  {
   "cell_type": "markdown",
   "metadata": {},
   "source": [
    "Primeira vez mexendo com API. \n",
    "Decidi fazer um programinha que calcula a cidade mais quente e a cidade mais fria dentre as 20 cidades mais populosas do brasil."
   ]
  },
  {
   "cell_type": "markdown",
   "metadata": {},
   "source": [
    "Aprendendo a usar API openweather"
   ]
  },
  {
   "cell_type": "code",
   "execution_count": 1,
   "metadata": {},
   "outputs": [
    {
     "data": {
      "text/plain": [
       "{'temp': 26.99,\n",
       " 'feels_like': 27.09,\n",
       " 'temp_min': 26,\n",
       " 'temp_max': 29,\n",
       " 'pressure': 1009,\n",
       " 'humidity': 78}"
      ]
     },
     "execution_count": 1,
     "metadata": {},
     "output_type": "execute_result"
    }
   ],
   "source": [
    "import requests\n",
    "from pprint import pprint\n",
    "city = 'Rio de Janeiro'\n",
    "url = 'http://api.openweathermap.org/data/2.5/weather?q={}&appid=b77e07f479efe92156376a8b07640ced&units=metric'.format(city)\n",
    "r = requests.get(url)\n",
    "data = r.json()\n",
    "temp = data['main']\n",
    "temp"
   ]
  },
  {
   "cell_type": "markdown",
   "metadata": {},
   "source": [
    "Usando API para pegar cidades brasileiras mais populosas (o arquivo já vem só as cidades brasileiras). Daí eu faço um dicionário com elas e suas populações. depois eu ordeno esse dicionário e passo para a variavel cidades_populosas somente as 20 ultimas"
   ]
  },
  {
   "cell_type": "code",
   "execution_count": 2,
   "metadata": {},
   "outputs": [],
   "source": [
    "import json  #importing the library\n",
    "from operator import itemgetter\n",
    "cit_dic = {}\n",
    "with open('worldcitiespop.json') as cities_json:   #open the file\n",
    "    cidades = json.load(cities_json)\n",
    "    for cidade in cidades:\n",
    "        if ('population' in cidade['fields']):\n",
    "            cit_dic[cidade['fields']['accentcity']] = cidade['fields']['population']\n",
    "\n",
    "cit_dic = dict(sorted(cit_dic.items(),key=itemgetter(1)))\n",
    "            \n",
    "cidades_populosas = list(cit_dic.keys())[-20:]"
   ]
  },
  {
   "cell_type": "markdown",
   "metadata": {},
   "source": [
    "Agora eu preciso achar o ID de cada uma dessas cidades da variável cidades_populosas"
   ]
  },
  {
   "cell_type": "code",
   "execution_count": 3,
   "metadata": {},
   "outputs": [
    {
     "data": {
      "text/plain": [
       "{6321026: 'Salvador',\n",
       " 6321162: 'Belo Horizonte',\n",
       " 3386496: 'Teresina',\n",
       " 3388368: 'São Luís',\n",
       " 3390760: 'Recife',\n",
       " 3394023: 'Natal',\n",
       " 6320645: 'Maceió',\n",
       " 6320062: 'Fortaleza',\n",
       " 3469058: 'Brasília',\n",
       " 3448439: 'São Paulo',\n",
       " 6322065: 'São Gonçalo',\n",
       " 3451190: 'Rio de Janeiro',\n",
       " 3452925: 'Porto Alegre',\n",
       " 6319198: 'Nova Iguaçu',\n",
       " 3461786: 'Guarulhos',\n",
       " 6323974: 'Goiânia',\n",
       " 3464374: 'Duque de Caxias',\n",
       " 6322752: 'Curitiba',\n",
       " 6316729: 'Campinas',\n",
       " 3663517: 'Manaus'}"
      ]
     },
     "execution_count": 3,
     "metadata": {},
     "output_type": "execute_result"
    }
   ],
   "source": [
    "#vou criar um dicionário de ids -> nome da cidade\n",
    "import json\n",
    "dict_id_city = {}\n",
    "\n",
    "with open ('city_list.json') as cities_json:\n",
    "    cidades = json.load(cities_json)\n",
    "    for cidade in cidades:\n",
    "        for cidade_escolhida in cidades_populosas:\n",
    "            if (cidade['name'] == cidade_escolhida):\n",
    "                dict_id_city[cidade['name']] = cidade['id']\n",
    "\n",
    "# dict_id_city esta no formato Salvador: id, Belo Horizonte: id...\n",
    "reverse_dict_id_city = {value : key for (key,value) in dict_id_city.items()}\n",
    "reverse_dict_id_city\n",
    "\n",
    "#reverti a ordem pra ficar mais facil pro programa"
   ]
  },
  {
   "cell_type": "markdown",
   "metadata": {},
   "source": [
    "Agora eu tenho que jogar todos os keys pra conseguir suas temperaturas e armazenar isso num outro dicionário"
   ]
  },
  {
   "cell_type": "code",
   "execution_count": 4,
   "metadata": {},
   "outputs": [
    {
     "data": {
      "text/plain": [
       "{6321026: 27,\n",
       " 6321162: 35.78,\n",
       " 3386496: 37,\n",
       " 3388368: 31,\n",
       " 3390760: 28,\n",
       " 3394023: 28.48,\n",
       " 6320645: 27,\n",
       " 6320062: 27.18,\n",
       " 3469058: 33.96,\n",
       " 3448439: 31.06,\n",
       " 6322065: 27.3,\n",
       " 3451190: 26.99,\n",
       " 3452925: 17,\n",
       " 6319198: 27.33,\n",
       " 3461786: 31.58,\n",
       " 6323974: 38,\n",
       " 3464374: 27.5,\n",
       " 6322752: 27.82,\n",
       " 6316729: 23.49,\n",
       " 3663517: 36}"
      ]
     },
     "execution_count": 4,
     "metadata": {},
     "output_type": "execute_result"
    }
   ],
   "source": [
    "import requests\n",
    "\n",
    "def get_temp (c):\n",
    "    city = c\n",
    "    url = 'http://api.openweathermap.org/data/2.5/weather?id={}&appid=b77e07f479efe92156376a8b07640ced&units=metric'.format(city)\n",
    "    r = requests.get(url)\n",
    "    data = r.json()\n",
    "    temp = data['main']['temp']\n",
    "    return temp\n",
    "\n",
    "\n",
    "# agora que a funcao ta feita eu mapeio para um dicionario\n",
    "dict_id_temp = {key: get_temp(key) for (key, value) in reverse_dict_id_city.items()}\n",
    "dict_id_temp"
   ]
  },
  {
   "cell_type": "markdown",
   "metadata": {},
   "source": [
    "Agora sim eu consigo achar a cidade mais quente nesse momento"
   ]
  },
  {
   "cell_type": "code",
   "execution_count": 5,
   "metadata": {},
   "outputs": [],
   "source": [
    "from operator import itemgetter\n",
    "dict_id_temp = dict(sorted(dict_id_temp.items(),key=itemgetter(1)))"
   ]
  },
  {
   "cell_type": "code",
   "execution_count": 6,
   "metadata": {},
   "outputs": [
    {
     "data": {
      "text/plain": [
       "{3452925: 17,\n",
       " 6316729: 23.49,\n",
       " 3451190: 26.99,\n",
       " 6321026: 27,\n",
       " 6320645: 27,\n",
       " 6320062: 27.18,\n",
       " 6322065: 27.3,\n",
       " 6319198: 27.33,\n",
       " 3464374: 27.5,\n",
       " 6322752: 27.82,\n",
       " 3390760: 28,\n",
       " 3394023: 28.48,\n",
       " 3388368: 31,\n",
       " 3448439: 31.06,\n",
       " 3461786: 31.58,\n",
       " 3469058: 33.96,\n",
       " 6321162: 35.78,\n",
       " 3663517: 36,\n",
       " 3386496: 37,\n",
       " 6323974: 38}"
      ]
     },
     "execution_count": 6,
     "metadata": {},
     "output_type": "execute_result"
    }
   ],
   "source": [
    "dict_id_temp"
   ]
  },
  {
   "cell_type": "markdown",
   "metadata": {},
   "source": [
    "Cidade mais fria: "
   ]
  },
  {
   "cell_type": "code",
   "execution_count": 7,
   "metadata": {},
   "outputs": [
    {
     "name": "stdout",
     "output_type": "stream",
     "text": [
      "Porto Alegre, 17 graus\n"
     ]
    }
   ],
   "source": [
    "nome_frio = reverse_dict_id_city[list(dict_id_temp.keys())[0]]\n",
    "temp = dict_id_temp[list(dict_id_temp.keys())[0]]\n",
    "print('{}, {} graus'.format(nome_frio,temp))"
   ]
  },
  {
   "cell_type": "markdown",
   "metadata": {},
   "source": [
    "Cidade Mais Quente:"
   ]
  },
  {
   "cell_type": "code",
   "execution_count": 8,
   "metadata": {},
   "outputs": [
    {
     "name": "stdout",
     "output_type": "stream",
     "text": [
      "Goiânia, 38 graus\n"
     ]
    }
   ],
   "source": [
    "nome_quente = reverse_dict_id_city[list(dict_id_temp.keys())[-1]]\n",
    "temp_q = dict_id_temp[list(dict_id_temp.keys())[-1]]\n",
    "print('{}, {} graus'.format(nome_quente,temp_q))"
   ]
  },
  {
   "cell_type": "code",
   "execution_count": null,
   "metadata": {},
   "outputs": [],
   "source": []
  }
 ],
 "metadata": {
  "kernelspec": {
   "display_name": "Python 3",
   "language": "python",
   "name": "python3"
  },
  "language_info": {
   "codemirror_mode": {
    "name": "ipython",
    "version": 3
   },
   "file_extension": ".py",
   "mimetype": "text/x-python",
   "name": "python",
   "nbconvert_exporter": "python",
   "pygments_lexer": "ipython3",
   "version": "3.7.6"
  }
 },
 "nbformat": 4,
 "nbformat_minor": 4
}
